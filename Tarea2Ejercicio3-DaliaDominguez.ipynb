{
 "cells": [
  {
   "cell_type": "markdown",
   "id": "0ca514ea-ea22-4751-a65d-868145906a4f",
   "metadata": {},
   "source": [
    "# Ejercicio 3: Regresión logística vs Clasificador bayesiano ingenuo\n",
    "\n",
    "#### Elaborado por: Dalia Yvette Domínguez Jiménez"
   ]
  },
  {
   "cell_type": "code",
   "execution_count": 1,
   "id": "0827db7e-705b-459a-bf34-ab4bab7470ef",
   "metadata": {},
   "outputs": [],
   "source": [
    "import numpy as np\n",
    "import pandas as pd\n",
    "import matplotlib.pyplot as plt\n",
    "from sklearn.model_selection import train_test_split\n",
    "from sklearn.naive_bayes import CategoricalNB\n",
    "from sklearn.naive_bayes import MultinomialNB\n",
    "import re\n",
    "from sklearn.impute import SimpleImputer\n",
    "import seaborn as sns\n",
    "from sklearn.preprocessing import MinMaxScaler, MaxAbsScaler\n"
   ]
  },
  {
   "cell_type": "markdown",
   "id": "2cc2d46c-518f-459e-92e8-b70c5e9763b8",
   "metadata": {},
   "source": [
    "## Importar y limpiar los datos"
   ]
  },
  {
   "cell_type": "markdown",
   "id": "f9530011-469d-43a2-be5c-fc93eb16b27c",
   "metadata": {
    "tags": []
   },
   "source": [
    "### breast-cancer-wisconsin.data"
   ]
  },
  {
   "cell_type": "markdown",
   "id": "dac3e190-147f-431c-9fee-0c1dae5d74ea",
   "metadata": {},
   "source": [
    "Leemos los datos del archivo:"
   ]
  },
  {
   "cell_type": "code",
   "execution_count": 2,
   "id": "30dd896c-b40f-4dcd-8b77-0105de1edb5c",
   "metadata": {},
   "outputs": [
    {
     "name": "stdout",
     "output_type": "stream",
     "text": [
      "<class 'pandas.core.frame.DataFrame'>\n",
      "RangeIndex: 698 entries, 0 to 697\n",
      "Data columns (total 11 columns):\n",
      " #   Column   Non-Null Count  Dtype \n",
      "---  ------   --------------  ----- \n",
      " 0   1000025  698 non-null    int64 \n",
      " 1   5        698 non-null    int64 \n",
      " 2   1        698 non-null    int64 \n",
      " 3   1.1      698 non-null    int64 \n",
      " 4   1.2      698 non-null    int64 \n",
      " 5   2        698 non-null    int64 \n",
      " 6   1.3      698 non-null    object\n",
      " 7   3        698 non-null    int64 \n",
      " 8   1.4      698 non-null    int64 \n",
      " 9   1.5      698 non-null    int64 \n",
      " 10  2.1      698 non-null    int64 \n",
      "dtypes: int64(10), object(1)\n",
      "memory usage: 60.1+ KB\n"
     ]
    }
   ],
   "source": [
    "df_cancer= pd.read_csv('breast-cancer-wisconsin.data')\n",
    "df_cancer.info()"
   ]
  },
  {
   "cell_type": "code",
   "execution_count": 3,
   "id": "d058ef81-6b74-4c5e-a320-ff78b33693b8",
   "metadata": {},
   "outputs": [
    {
     "data": {
      "text/html": [
       "<div>\n",
       "<style scoped>\n",
       "    .dataframe tbody tr th:only-of-type {\n",
       "        vertical-align: middle;\n",
       "    }\n",
       "\n",
       "    .dataframe tbody tr th {\n",
       "        vertical-align: top;\n",
       "    }\n",
       "\n",
       "    .dataframe thead th {\n",
       "        text-align: right;\n",
       "    }\n",
       "</style>\n",
       "<table border=\"1\" class=\"dataframe\">\n",
       "  <thead>\n",
       "    <tr style=\"text-align: right;\">\n",
       "      <th></th>\n",
       "      <th>1000025</th>\n",
       "      <th>5</th>\n",
       "      <th>1</th>\n",
       "      <th>1.1</th>\n",
       "      <th>1.2</th>\n",
       "      <th>2</th>\n",
       "      <th>1.3</th>\n",
       "      <th>3</th>\n",
       "      <th>1.4</th>\n",
       "      <th>1.5</th>\n",
       "      <th>2.1</th>\n",
       "    </tr>\n",
       "  </thead>\n",
       "  <tbody>\n",
       "    <tr>\n",
       "      <th>0</th>\n",
       "      <td>1002945</td>\n",
       "      <td>5</td>\n",
       "      <td>4</td>\n",
       "      <td>4</td>\n",
       "      <td>5</td>\n",
       "      <td>7</td>\n",
       "      <td>10</td>\n",
       "      <td>3</td>\n",
       "      <td>2</td>\n",
       "      <td>1</td>\n",
       "      <td>2</td>\n",
       "    </tr>\n",
       "    <tr>\n",
       "      <th>1</th>\n",
       "      <td>1015425</td>\n",
       "      <td>3</td>\n",
       "      <td>1</td>\n",
       "      <td>1</td>\n",
       "      <td>1</td>\n",
       "      <td>2</td>\n",
       "      <td>2</td>\n",
       "      <td>3</td>\n",
       "      <td>1</td>\n",
       "      <td>1</td>\n",
       "      <td>2</td>\n",
       "    </tr>\n",
       "    <tr>\n",
       "      <th>2</th>\n",
       "      <td>1016277</td>\n",
       "      <td>6</td>\n",
       "      <td>8</td>\n",
       "      <td>8</td>\n",
       "      <td>1</td>\n",
       "      <td>3</td>\n",
       "      <td>4</td>\n",
       "      <td>3</td>\n",
       "      <td>7</td>\n",
       "      <td>1</td>\n",
       "      <td>2</td>\n",
       "    </tr>\n",
       "    <tr>\n",
       "      <th>3</th>\n",
       "      <td>1017023</td>\n",
       "      <td>4</td>\n",
       "      <td>1</td>\n",
       "      <td>1</td>\n",
       "      <td>3</td>\n",
       "      <td>2</td>\n",
       "      <td>1</td>\n",
       "      <td>3</td>\n",
       "      <td>1</td>\n",
       "      <td>1</td>\n",
       "      <td>2</td>\n",
       "    </tr>\n",
       "    <tr>\n",
       "      <th>4</th>\n",
       "      <td>1017122</td>\n",
       "      <td>8</td>\n",
       "      <td>10</td>\n",
       "      <td>10</td>\n",
       "      <td>8</td>\n",
       "      <td>7</td>\n",
       "      <td>10</td>\n",
       "      <td>9</td>\n",
       "      <td>7</td>\n",
       "      <td>1</td>\n",
       "      <td>4</td>\n",
       "    </tr>\n",
       "  </tbody>\n",
       "</table>\n",
       "</div>"
      ],
      "text/plain": [
       "   1000025  5   1  1.1  1.2  2 1.3  3  1.4  1.5  2.1\n",
       "0  1002945  5   4    4    5  7  10  3    2    1    2\n",
       "1  1015425  3   1    1    1  2   2  3    1    1    2\n",
       "2  1016277  6   8    8    1  3   4  3    7    1    2\n",
       "3  1017023  4   1    1    3  2   1  3    1    1    2\n",
       "4  1017122  8  10   10    8  7  10  9    7    1    4"
      ]
     },
     "execution_count": 3,
     "metadata": {},
     "output_type": "execute_result"
    }
   ],
   "source": [
    "df_cancer.head()"
   ]
  },
  {
   "cell_type": "markdown",
   "id": "69556333-1c2e-46b1-a8d2-01f652e144ec",
   "metadata": {},
   "source": [
    "Agregamos los encabezados"
   ]
  },
  {
   "cell_type": "code",
   "execution_count": 4,
   "id": "7934b112-76e2-460d-b6e5-4a401d4ab138",
   "metadata": {},
   "outputs": [
    {
     "data": {
      "text/html": [
       "<div>\n",
       "<style scoped>\n",
       "    .dataframe tbody tr th:only-of-type {\n",
       "        vertical-align: middle;\n",
       "    }\n",
       "\n",
       "    .dataframe tbody tr th {\n",
       "        vertical-align: top;\n",
       "    }\n",
       "\n",
       "    .dataframe thead th {\n",
       "        text-align: right;\n",
       "    }\n",
       "</style>\n",
       "<table border=\"1\" class=\"dataframe\">\n",
       "  <thead>\n",
       "    <tr style=\"text-align: right;\">\n",
       "      <th></th>\n",
       "      <th>Sample code number</th>\n",
       "      <th>Clump Thickness</th>\n",
       "      <th>Uniformity of Cell Size</th>\n",
       "      <th>Uniformity of Cell Shape</th>\n",
       "      <th>Marginal Adhesion</th>\n",
       "      <th>Single Epithelial Cell Size</th>\n",
       "      <th>Bare Nuclei</th>\n",
       "      <th>Bland Chromatin</th>\n",
       "      <th>Normal Nucleoli</th>\n",
       "      <th>Mitoses</th>\n",
       "      <th>Class</th>\n",
       "    </tr>\n",
       "  </thead>\n",
       "  <tbody>\n",
       "    <tr>\n",
       "      <th>0</th>\n",
       "      <td>1002945</td>\n",
       "      <td>5</td>\n",
       "      <td>4</td>\n",
       "      <td>4</td>\n",
       "      <td>5</td>\n",
       "      <td>7</td>\n",
       "      <td>10</td>\n",
       "      <td>3</td>\n",
       "      <td>2</td>\n",
       "      <td>1</td>\n",
       "      <td>2</td>\n",
       "    </tr>\n",
       "    <tr>\n",
       "      <th>1</th>\n",
       "      <td>1015425</td>\n",
       "      <td>3</td>\n",
       "      <td>1</td>\n",
       "      <td>1</td>\n",
       "      <td>1</td>\n",
       "      <td>2</td>\n",
       "      <td>2</td>\n",
       "      <td>3</td>\n",
       "      <td>1</td>\n",
       "      <td>1</td>\n",
       "      <td>2</td>\n",
       "    </tr>\n",
       "    <tr>\n",
       "      <th>2</th>\n",
       "      <td>1016277</td>\n",
       "      <td>6</td>\n",
       "      <td>8</td>\n",
       "      <td>8</td>\n",
       "      <td>1</td>\n",
       "      <td>3</td>\n",
       "      <td>4</td>\n",
       "      <td>3</td>\n",
       "      <td>7</td>\n",
       "      <td>1</td>\n",
       "      <td>2</td>\n",
       "    </tr>\n",
       "    <tr>\n",
       "      <th>3</th>\n",
       "      <td>1017023</td>\n",
       "      <td>4</td>\n",
       "      <td>1</td>\n",
       "      <td>1</td>\n",
       "      <td>3</td>\n",
       "      <td>2</td>\n",
       "      <td>1</td>\n",
       "      <td>3</td>\n",
       "      <td>1</td>\n",
       "      <td>1</td>\n",
       "      <td>2</td>\n",
       "    </tr>\n",
       "    <tr>\n",
       "      <th>4</th>\n",
       "      <td>1017122</td>\n",
       "      <td>8</td>\n",
       "      <td>10</td>\n",
       "      <td>10</td>\n",
       "      <td>8</td>\n",
       "      <td>7</td>\n",
       "      <td>10</td>\n",
       "      <td>9</td>\n",
       "      <td>7</td>\n",
       "      <td>1</td>\n",
       "      <td>4</td>\n",
       "    </tr>\n",
       "  </tbody>\n",
       "</table>\n",
       "</div>"
      ],
      "text/plain": [
       "   Sample code number  Clump Thickness  Uniformity of Cell Size  \\\n",
       "0             1002945                5                        4   \n",
       "1             1015425                3                        1   \n",
       "2             1016277                6                        8   \n",
       "3             1017023                4                        1   \n",
       "4             1017122                8                       10   \n",
       "\n",
       "   Uniformity of Cell Shape  Marginal Adhesion  Single Epithelial Cell Size  \\\n",
       "0                         4                  5                            7   \n",
       "1                         1                  1                            2   \n",
       "2                         8                  1                            3   \n",
       "3                         1                  3                            2   \n",
       "4                        10                  8                            7   \n",
       "\n",
       "  Bare Nuclei  Bland Chromatin  Normal Nucleoli  Mitoses  Class  \n",
       "0          10                3                2        1      2  \n",
       "1           2                3                1        1      2  \n",
       "2           4                3                7        1      2  \n",
       "3           1                3                1        1      2  \n",
       "4          10                9                7        1      4  "
      ]
     },
     "execution_count": 4,
     "metadata": {},
     "output_type": "execute_result"
    }
   ],
   "source": [
    "headers=[]\n",
    "with open(\"breast-cancer-wisconsin.names\") as file:\n",
    "    k = 0\n",
    "    for line in file.readlines():\n",
    "        k+=1\n",
    "        if k>105 and k<117:\n",
    "            headers.append(*re.findall('[A-Za-z]+ {0,1}[A-Za-z]+ {0,1}[A-Za-z]+ {0,1}[A-Za-z]+',line[6:35]))\n",
    "df_cancer.columns=headers\n",
    "df_cancer.head()"
   ]
  },
  {
   "cell_type": "markdown",
   "id": "833e7584-8442-41e2-ac21-bf8ae998a3cf",
   "metadata": {},
   "source": [
    "Visualizamos los datos faltantes"
   ]
  },
  {
   "cell_type": "code",
   "execution_count": 5,
   "id": "893c23e8-51e7-4ee8-9643-2b0d86239e93",
   "metadata": {},
   "outputs": [
    {
     "data": {
      "text/html": [
       "<div>\n",
       "<style scoped>\n",
       "    .dataframe tbody tr th:only-of-type {\n",
       "        vertical-align: middle;\n",
       "    }\n",
       "\n",
       "    .dataframe tbody tr th {\n",
       "        vertical-align: top;\n",
       "    }\n",
       "\n",
       "    .dataframe thead th {\n",
       "        text-align: right;\n",
       "    }\n",
       "</style>\n",
       "<table border=\"1\" class=\"dataframe\">\n",
       "  <thead>\n",
       "    <tr style=\"text-align: right;\">\n",
       "      <th></th>\n",
       "      <th>Sample code number</th>\n",
       "      <th>Clump Thickness</th>\n",
       "      <th>Uniformity of Cell Size</th>\n",
       "      <th>Uniformity of Cell Shape</th>\n",
       "      <th>Marginal Adhesion</th>\n",
       "      <th>Single Epithelial Cell Size</th>\n",
       "      <th>Bare Nuclei</th>\n",
       "      <th>Bland Chromatin</th>\n",
       "      <th>Normal Nucleoli</th>\n",
       "      <th>Mitoses</th>\n",
       "      <th>Class</th>\n",
       "    </tr>\n",
       "  </thead>\n",
       "  <tbody>\n",
       "    <tr>\n",
       "      <th>22</th>\n",
       "      <td>1057013</td>\n",
       "      <td>8</td>\n",
       "      <td>4</td>\n",
       "      <td>5</td>\n",
       "      <td>1</td>\n",
       "      <td>2</td>\n",
       "      <td>?</td>\n",
       "      <td>7</td>\n",
       "      <td>3</td>\n",
       "      <td>1</td>\n",
       "      <td>1</td>\n",
       "    </tr>\n",
       "    <tr>\n",
       "      <th>39</th>\n",
       "      <td>1096800</td>\n",
       "      <td>6</td>\n",
       "      <td>6</td>\n",
       "      <td>6</td>\n",
       "      <td>9</td>\n",
       "      <td>6</td>\n",
       "      <td>?</td>\n",
       "      <td>7</td>\n",
       "      <td>8</td>\n",
       "      <td>1</td>\n",
       "      <td>0</td>\n",
       "    </tr>\n",
       "    <tr>\n",
       "      <th>138</th>\n",
       "      <td>1183246</td>\n",
       "      <td>1</td>\n",
       "      <td>1</td>\n",
       "      <td>1</td>\n",
       "      <td>1</td>\n",
       "      <td>1</td>\n",
       "      <td>?</td>\n",
       "      <td>2</td>\n",
       "      <td>1</td>\n",
       "      <td>1</td>\n",
       "      <td>0</td>\n",
       "    </tr>\n",
       "    <tr>\n",
       "      <th>144</th>\n",
       "      <td>1184840</td>\n",
       "      <td>1</td>\n",
       "      <td>1</td>\n",
       "      <td>3</td>\n",
       "      <td>1</td>\n",
       "      <td>2</td>\n",
       "      <td>?</td>\n",
       "      <td>2</td>\n",
       "      <td>1</td>\n",
       "      <td>1</td>\n",
       "      <td>0</td>\n",
       "    </tr>\n",
       "    <tr>\n",
       "      <th>157</th>\n",
       "      <td>1193683</td>\n",
       "      <td>1</td>\n",
       "      <td>1</td>\n",
       "      <td>2</td>\n",
       "      <td>1</td>\n",
       "      <td>3</td>\n",
       "      <td>?</td>\n",
       "      <td>1</td>\n",
       "      <td>1</td>\n",
       "      <td>1</td>\n",
       "      <td>0</td>\n",
       "    </tr>\n",
       "    <tr>\n",
       "      <th>163</th>\n",
       "      <td>1197510</td>\n",
       "      <td>5</td>\n",
       "      <td>1</td>\n",
       "      <td>1</td>\n",
       "      <td>1</td>\n",
       "      <td>2</td>\n",
       "      <td>?</td>\n",
       "      <td>3</td>\n",
       "      <td>1</td>\n",
       "      <td>1</td>\n",
       "      <td>0</td>\n",
       "    </tr>\n",
       "    <tr>\n",
       "      <th>234</th>\n",
       "      <td>1241232</td>\n",
       "      <td>3</td>\n",
       "      <td>1</td>\n",
       "      <td>4</td>\n",
       "      <td>1</td>\n",
       "      <td>2</td>\n",
       "      <td>?</td>\n",
       "      <td>3</td>\n",
       "      <td>1</td>\n",
       "      <td>1</td>\n",
       "      <td>0</td>\n",
       "    </tr>\n",
       "    <tr>\n",
       "      <th>248</th>\n",
       "      <td>169356</td>\n",
       "      <td>3</td>\n",
       "      <td>1</td>\n",
       "      <td>1</td>\n",
       "      <td>1</td>\n",
       "      <td>2</td>\n",
       "      <td>?</td>\n",
       "      <td>3</td>\n",
       "      <td>1</td>\n",
       "      <td>1</td>\n",
       "      <td>0</td>\n",
       "    </tr>\n",
       "    <tr>\n",
       "      <th>274</th>\n",
       "      <td>432809</td>\n",
       "      <td>3</td>\n",
       "      <td>1</td>\n",
       "      <td>3</td>\n",
       "      <td>1</td>\n",
       "      <td>2</td>\n",
       "      <td>?</td>\n",
       "      <td>2</td>\n",
       "      <td>1</td>\n",
       "      <td>1</td>\n",
       "      <td>0</td>\n",
       "    </tr>\n",
       "    <tr>\n",
       "      <th>291</th>\n",
       "      <td>563649</td>\n",
       "      <td>8</td>\n",
       "      <td>8</td>\n",
       "      <td>8</td>\n",
       "      <td>1</td>\n",
       "      <td>2</td>\n",
       "      <td>?</td>\n",
       "      <td>6</td>\n",
       "      <td>10</td>\n",
       "      <td>1</td>\n",
       "      <td>1</td>\n",
       "    </tr>\n",
       "    <tr>\n",
       "      <th>293</th>\n",
       "      <td>606140</td>\n",
       "      <td>1</td>\n",
       "      <td>1</td>\n",
       "      <td>1</td>\n",
       "      <td>1</td>\n",
       "      <td>2</td>\n",
       "      <td>?</td>\n",
       "      <td>2</td>\n",
       "      <td>1</td>\n",
       "      <td>1</td>\n",
       "      <td>0</td>\n",
       "    </tr>\n",
       "    <tr>\n",
       "      <th>296</th>\n",
       "      <td>61634</td>\n",
       "      <td>5</td>\n",
       "      <td>4</td>\n",
       "      <td>3</td>\n",
       "      <td>1</td>\n",
       "      <td>2</td>\n",
       "      <td>?</td>\n",
       "      <td>2</td>\n",
       "      <td>3</td>\n",
       "      <td>1</td>\n",
       "      <td>0</td>\n",
       "    </tr>\n",
       "    <tr>\n",
       "      <th>314</th>\n",
       "      <td>704168</td>\n",
       "      <td>4</td>\n",
       "      <td>6</td>\n",
       "      <td>5</td>\n",
       "      <td>6</td>\n",
       "      <td>7</td>\n",
       "      <td>?</td>\n",
       "      <td>4</td>\n",
       "      <td>9</td>\n",
       "      <td>1</td>\n",
       "      <td>0</td>\n",
       "    </tr>\n",
       "    <tr>\n",
       "      <th>320</th>\n",
       "      <td>733639</td>\n",
       "      <td>3</td>\n",
       "      <td>1</td>\n",
       "      <td>1</td>\n",
       "      <td>1</td>\n",
       "      <td>2</td>\n",
       "      <td>?</td>\n",
       "      <td>3</td>\n",
       "      <td>1</td>\n",
       "      <td>1</td>\n",
       "      <td>0</td>\n",
       "    </tr>\n",
       "    <tr>\n",
       "      <th>410</th>\n",
       "      <td>1238464</td>\n",
       "      <td>1</td>\n",
       "      <td>1</td>\n",
       "      <td>1</td>\n",
       "      <td>1</td>\n",
       "      <td>1</td>\n",
       "      <td>?</td>\n",
       "      <td>2</td>\n",
       "      <td>1</td>\n",
       "      <td>1</td>\n",
       "      <td>0</td>\n",
       "    </tr>\n",
       "    <tr>\n",
       "      <th>616</th>\n",
       "      <td>1057067</td>\n",
       "      <td>1</td>\n",
       "      <td>1</td>\n",
       "      <td>1</td>\n",
       "      <td>1</td>\n",
       "      <td>1</td>\n",
       "      <td>?</td>\n",
       "      <td>1</td>\n",
       "      <td>1</td>\n",
       "      <td>1</td>\n",
       "      <td>0</td>\n",
       "    </tr>\n",
       "  </tbody>\n",
       "</table>\n",
       "</div>"
      ],
      "text/plain": [
       "     Sample code number  Clump Thickness  Uniformity of Cell Size  \\\n",
       "22              1057013                8                        4   \n",
       "39              1096800                6                        6   \n",
       "138             1183246                1                        1   \n",
       "144             1184840                1                        1   \n",
       "157             1193683                1                        1   \n",
       "163             1197510                5                        1   \n",
       "234             1241232                3                        1   \n",
       "248              169356                3                        1   \n",
       "274              432809                3                        1   \n",
       "291              563649                8                        8   \n",
       "293              606140                1                        1   \n",
       "296               61634                5                        4   \n",
       "314              704168                4                        6   \n",
       "320              733639                3                        1   \n",
       "410             1238464                1                        1   \n",
       "616             1057067                1                        1   \n",
       "\n",
       "     Uniformity of Cell Shape  Marginal Adhesion  Single Epithelial Cell Size  \\\n",
       "22                          5                  1                            2   \n",
       "39                          6                  9                            6   \n",
       "138                         1                  1                            1   \n",
       "144                         3                  1                            2   \n",
       "157                         2                  1                            3   \n",
       "163                         1                  1                            2   \n",
       "234                         4                  1                            2   \n",
       "248                         1                  1                            2   \n",
       "274                         3                  1                            2   \n",
       "291                         8                  1                            2   \n",
       "293                         1                  1                            2   \n",
       "296                         3                  1                            2   \n",
       "314                         5                  6                            7   \n",
       "320                         1                  1                            2   \n",
       "410                         1                  1                            1   \n",
       "616                         1                  1                            1   \n",
       "\n",
       "    Bare Nuclei  Bland Chromatin  Normal Nucleoli  Mitoses  Class  \n",
       "22            ?                7                3        1      1  \n",
       "39            ?                7                8        1      0  \n",
       "138           ?                2                1        1      0  \n",
       "144           ?                2                1        1      0  \n",
       "157           ?                1                1        1      0  \n",
       "163           ?                3                1        1      0  \n",
       "234           ?                3                1        1      0  \n",
       "248           ?                3                1        1      0  \n",
       "274           ?                2                1        1      0  \n",
       "291           ?                6               10        1      1  \n",
       "293           ?                2                1        1      0  \n",
       "296           ?                2                3        1      0  \n",
       "314           ?                4                9        1      0  \n",
       "320           ?                3                1        1      0  \n",
       "410           ?                2                1        1      0  \n",
       "616           ?                1                1        1      0  "
      ]
     },
     "execution_count": 5,
     "metadata": {},
     "output_type": "execute_result"
    }
   ],
   "source": [
    "df_cancer[['Class']] = df_cancer[['Class']].replace(2,0)\n",
    "df_cancer[['Class']] = df_cancer[['Class']].replace(4,1)\n",
    "df_cancer[df_cancer[df_cancer.columns[6]]=='?']"
   ]
  },
  {
   "cell_type": "markdown",
   "id": "6253ae73-e40a-4368-acb9-da601407200a",
   "metadata": {},
   "source": [
    "Imputamos los valores faltantes con la moda"
   ]
  },
  {
   "cell_type": "code",
   "execution_count": 6,
   "id": "174c37de-7abc-43c9-b00a-f57669e8d22c",
   "metadata": {},
   "outputs": [
    {
     "data": {
      "text/html": [
       "<div>\n",
       "<style scoped>\n",
       "    .dataframe tbody tr th:only-of-type {\n",
       "        vertical-align: middle;\n",
       "    }\n",
       "\n",
       "    .dataframe tbody tr th {\n",
       "        vertical-align: top;\n",
       "    }\n",
       "\n",
       "    .dataframe thead th {\n",
       "        text-align: right;\n",
       "    }\n",
       "</style>\n",
       "<table border=\"1\" class=\"dataframe\">\n",
       "  <thead>\n",
       "    <tr style=\"text-align: right;\">\n",
       "      <th></th>\n",
       "      <th>Sample code number</th>\n",
       "      <th>Clump Thickness</th>\n",
       "      <th>Uniformity of Cell Size</th>\n",
       "      <th>Uniformity of Cell Shape</th>\n",
       "      <th>Marginal Adhesion</th>\n",
       "      <th>Single Epithelial Cell Size</th>\n",
       "      <th>Bare Nuclei</th>\n",
       "      <th>Bland Chromatin</th>\n",
       "      <th>Normal Nucleoli</th>\n",
       "      <th>Mitoses</th>\n",
       "      <th>Class</th>\n",
       "    </tr>\n",
       "  </thead>\n",
       "  <tbody>\n",
       "  </tbody>\n",
       "</table>\n",
       "</div>"
      ],
      "text/plain": [
       "Empty DataFrame\n",
       "Columns: [Sample code number, Clump Thickness, Uniformity of Cell Size, Uniformity of Cell Shape, Marginal Adhesion, Single Epithelial Cell Size, Bare Nuclei, Bland Chromatin, Normal Nucleoli, Mitoses, Class]\n",
       "Index: []"
      ]
     },
     "execution_count": 6,
     "metadata": {},
     "output_type": "execute_result"
    }
   ],
   "source": [
    "imp = SimpleImputer(missing_values='?', strategy=\"most_frequent\")\n",
    "imp.fit(df_cancer[df_cancer.columns[[6]]])\n",
    "df_cancer[df_cancer.columns[[6]]]=imp.transform(df_cancer[df_cancer.columns[[6]]])\n",
    "df_cancer[df_cancer[df_cancer.columns[6]]=='?']"
   ]
  },
  {
   "cell_type": "markdown",
   "id": "32b5017b-f7e5-4963-bdc3-dcbb0eefde55",
   "metadata": {},
   "source": [
    "Chequemos que todos los atributos sean de tipo entero:"
   ]
  },
  {
   "cell_type": "code",
   "execution_count": 7,
   "id": "f52fa836-df16-4f70-bade-94a60dc4aaca",
   "metadata": {},
   "outputs": [
    {
     "name": "stdout",
     "output_type": "stream",
     "text": [
      "<class 'pandas.core.frame.DataFrame'>\n",
      "RangeIndex: 698 entries, 0 to 697\n",
      "Data columns (total 11 columns):\n",
      " #   Column                       Non-Null Count  Dtype \n",
      "---  ------                       --------------  ----- \n",
      " 0   Sample code number           698 non-null    int64 \n",
      " 1   Clump Thickness              698 non-null    int64 \n",
      " 2   Uniformity of Cell Size      698 non-null    int64 \n",
      " 3   Uniformity of Cell Shape     698 non-null    int64 \n",
      " 4   Marginal Adhesion            698 non-null    int64 \n",
      " 5   Single Epithelial Cell Size  698 non-null    int64 \n",
      " 6   Bare Nuclei                  698 non-null    object\n",
      " 7   Bland Chromatin              698 non-null    int64 \n",
      " 8   Normal Nucleoli              698 non-null    int64 \n",
      " 9   Mitoses                      698 non-null    int64 \n",
      " 10  Class                        698 non-null    int64 \n",
      "dtypes: int64(10), object(1)\n",
      "memory usage: 60.1+ KB\n"
     ]
    }
   ],
   "source": [
    "df_cancer.info()"
   ]
  },
  {
   "cell_type": "code",
   "execution_count": 8,
   "id": "31a5bcd8-ffa9-4492-86a3-e51f8dc590c7",
   "metadata": {},
   "outputs": [
    {
     "name": "stdout",
     "output_type": "stream",
     "text": [
      "<class 'pandas.core.frame.DataFrame'>\n",
      "RangeIndex: 698 entries, 0 to 697\n",
      "Data columns (total 11 columns):\n",
      " #   Column                       Non-Null Count  Dtype\n",
      "---  ------                       --------------  -----\n",
      " 0   Sample code number           698 non-null    int64\n",
      " 1   Clump Thickness              698 non-null    int64\n",
      " 2   Uniformity of Cell Size      698 non-null    int64\n",
      " 3   Uniformity of Cell Shape     698 non-null    int64\n",
      " 4   Marginal Adhesion            698 non-null    int64\n",
      " 5   Single Epithelial Cell Size  698 non-null    int64\n",
      " 6   Bare Nuclei                  698 non-null    int64\n",
      " 7   Bland Chromatin              698 non-null    int64\n",
      " 8   Normal Nucleoli              698 non-null    int64\n",
      " 9   Mitoses                      698 non-null    int64\n",
      " 10  Class                        698 non-null    int64\n",
      "dtypes: int64(11)\n",
      "memory usage: 60.1 KB\n"
     ]
    }
   ],
   "source": [
    "df_cancer=df_cancer.astype('int64')\n",
    "df_cancer.info()"
   ]
  },
  {
   "cell_type": "markdown",
   "id": "ac8490b0-0a53-4d97-911c-74a345ec7f9c",
   "metadata": {},
   "source": [
    "## spam.csv"
   ]
  },
  {
   "cell_type": "code",
   "execution_count": 9,
   "id": "ceac030b-2763-4ccf-9107-40fd05f134c4",
   "metadata": {},
   "outputs": [],
   "source": [
    "data = []\n",
    "with open(\"spam.csv\",'r') as f:\n",
    "    for line in f:\n",
    "        data.append(line.split())\n",
    "    f.close()"
   ]
  },
  {
   "cell_type": "markdown",
   "id": "89aa0561-9988-454e-899b-669e4e04c3c8",
   "metadata": {},
   "source": [
    "Considerando un histograma de palabras generado, excepto por el último dígito, que consideraremos $0=$ Legitimate y $1=$ spam."
   ]
  },
  {
   "cell_type": "code",
   "execution_count": 10,
   "id": "74404e36-b146-4f90-946e-37e9128242fd",
   "metadata": {},
   "outputs": [
    {
     "data": {
      "text/html": [
       "<div>\n",
       "<style scoped>\n",
       "    .dataframe tbody tr th:only-of-type {\n",
       "        vertical-align: middle;\n",
       "    }\n",
       "\n",
       "    .dataframe tbody tr th {\n",
       "        vertical-align: top;\n",
       "    }\n",
       "\n",
       "    .dataframe thead th {\n",
       "        text-align: right;\n",
       "    }\n",
       "</style>\n",
       "<table border=\"1\" class=\"dataframe\">\n",
       "  <thead>\n",
       "    <tr style=\"text-align: right;\">\n",
       "      <th></th>\n",
       "      <th>w0</th>\n",
       "      <th>w1</th>\n",
       "      <th>w2</th>\n",
       "      <th>w3</th>\n",
       "      <th>w4</th>\n",
       "      <th>w5</th>\n",
       "      <th>w6</th>\n",
       "      <th>w7</th>\n",
       "      <th>w8</th>\n",
       "      <th>w9</th>\n",
       "      <th>...</th>\n",
       "      <th>w1991</th>\n",
       "      <th>w1992</th>\n",
       "      <th>w1993</th>\n",
       "      <th>w1994</th>\n",
       "      <th>w1995</th>\n",
       "      <th>w1996</th>\n",
       "      <th>w1997</th>\n",
       "      <th>w1998</th>\n",
       "      <th>w1999</th>\n",
       "      <th>Type</th>\n",
       "    </tr>\n",
       "  </thead>\n",
       "  <tbody>\n",
       "    <tr>\n",
       "      <th>0</th>\n",
       "      <td>0</td>\n",
       "      <td>0</td>\n",
       "      <td>0</td>\n",
       "      <td>0</td>\n",
       "      <td>0</td>\n",
       "      <td>0</td>\n",
       "      <td>0</td>\n",
       "      <td>0</td>\n",
       "      <td>0</td>\n",
       "      <td>0</td>\n",
       "      <td>...</td>\n",
       "      <td>0</td>\n",
       "      <td>0</td>\n",
       "      <td>0</td>\n",
       "      <td>0</td>\n",
       "      <td>0</td>\n",
       "      <td>0</td>\n",
       "      <td>0</td>\n",
       "      <td>0</td>\n",
       "      <td>0</td>\n",
       "      <td>1</td>\n",
       "    </tr>\n",
       "    <tr>\n",
       "      <th>1</th>\n",
       "      <td>1</td>\n",
       "      <td>0</td>\n",
       "      <td>0</td>\n",
       "      <td>0</td>\n",
       "      <td>0</td>\n",
       "      <td>0</td>\n",
       "      <td>0</td>\n",
       "      <td>0</td>\n",
       "      <td>0</td>\n",
       "      <td>0</td>\n",
       "      <td>...</td>\n",
       "      <td>0</td>\n",
       "      <td>0</td>\n",
       "      <td>0</td>\n",
       "      <td>0</td>\n",
       "      <td>0</td>\n",
       "      <td>0</td>\n",
       "      <td>0</td>\n",
       "      <td>0</td>\n",
       "      <td>1</td>\n",
       "      <td>1</td>\n",
       "    </tr>\n",
       "    <tr>\n",
       "      <th>2</th>\n",
       "      <td>1</td>\n",
       "      <td>0</td>\n",
       "      <td>0</td>\n",
       "      <td>0</td>\n",
       "      <td>0</td>\n",
       "      <td>0</td>\n",
       "      <td>0</td>\n",
       "      <td>0</td>\n",
       "      <td>0</td>\n",
       "      <td>0</td>\n",
       "      <td>...</td>\n",
       "      <td>0</td>\n",
       "      <td>0</td>\n",
       "      <td>0</td>\n",
       "      <td>0</td>\n",
       "      <td>0</td>\n",
       "      <td>0</td>\n",
       "      <td>0</td>\n",
       "      <td>0</td>\n",
       "      <td>0</td>\n",
       "      <td>1</td>\n",
       "    </tr>\n",
       "    <tr>\n",
       "      <th>3</th>\n",
       "      <td>0</td>\n",
       "      <td>0</td>\n",
       "      <td>0</td>\n",
       "      <td>0</td>\n",
       "      <td>0</td>\n",
       "      <td>0</td>\n",
       "      <td>0</td>\n",
       "      <td>0</td>\n",
       "      <td>0</td>\n",
       "      <td>0</td>\n",
       "      <td>...</td>\n",
       "      <td>0</td>\n",
       "      <td>1</td>\n",
       "      <td>0</td>\n",
       "      <td>0</td>\n",
       "      <td>0</td>\n",
       "      <td>0</td>\n",
       "      <td>0</td>\n",
       "      <td>0</td>\n",
       "      <td>0</td>\n",
       "      <td>1</td>\n",
       "    </tr>\n",
       "    <tr>\n",
       "      <th>4</th>\n",
       "      <td>1</td>\n",
       "      <td>0</td>\n",
       "      <td>0</td>\n",
       "      <td>0</td>\n",
       "      <td>0</td>\n",
       "      <td>0</td>\n",
       "      <td>0</td>\n",
       "      <td>0</td>\n",
       "      <td>0</td>\n",
       "      <td>0</td>\n",
       "      <td>...</td>\n",
       "      <td>0</td>\n",
       "      <td>0</td>\n",
       "      <td>0</td>\n",
       "      <td>0</td>\n",
       "      <td>0</td>\n",
       "      <td>0</td>\n",
       "      <td>0</td>\n",
       "      <td>0</td>\n",
       "      <td>0</td>\n",
       "      <td>1</td>\n",
       "    </tr>\n",
       "  </tbody>\n",
       "</table>\n",
       "<p>5 rows × 2001 columns</p>\n",
       "</div>"
      ],
      "text/plain": [
       "  w0 w1 w2 w3 w4 w5 w6 w7 w8 w9  ... w1991 w1992 w1993 w1994 w1995 w1996  \\\n",
       "0  0  0  0  0  0  0  0  0  0  0  ...     0     0     0     0     0     0   \n",
       "1  1  0  0  0  0  0  0  0  0  0  ...     0     0     0     0     0     0   \n",
       "2  1  0  0  0  0  0  0  0  0  0  ...     0     0     0     0     0     0   \n",
       "3  0  0  0  0  0  0  0  0  0  0  ...     0     1     0     0     0     0   \n",
       "4  1  0  0  0  0  0  0  0  0  0  ...     0     0     0     0     0     0   \n",
       "\n",
       "  w1997 w1998 w1999 Type  \n",
       "0     0     0     0    1  \n",
       "1     0     0     1    1  \n",
       "2     0     0     0    1  \n",
       "3     0     0     0    1  \n",
       "4     0     0     0    1  \n",
       "\n",
       "[5 rows x 2001 columns]"
      ]
     },
     "execution_count": 10,
     "metadata": {},
     "output_type": "execute_result"
    }
   ],
   "source": [
    "header=['w'+str(i) for i in range(len(data[0])-1)] + ['Type']\n",
    "df_spam = pd.DataFrame(data, columns=header)\n",
    "df_spam.head()"
   ]
  },
  {
   "cell_type": "code",
   "execution_count": 11,
   "id": "8dab0830-aaee-4497-bb53-a108ff811ae3",
   "metadata": {},
   "outputs": [
    {
     "name": "stdout",
     "output_type": "stream",
     "text": [
      "<class 'pandas.core.frame.DataFrame'>\n",
      "RangeIndex: 5172 entries, 0 to 5171\n",
      "Columns: 2001 entries, w0 to Type\n",
      "dtypes: object(2001)\n",
      "memory usage: 79.0+ MB\n"
     ]
    }
   ],
   "source": [
    "df_spam.info()"
   ]
  },
  {
   "cell_type": "markdown",
   "id": "d4ead172-e6e3-414a-9900-d03faa1b9694",
   "metadata": {},
   "source": [
    "### Validación cruzada con repetición"
   ]
  },
  {
   "cell_type": "markdown",
   "id": "38cbaa15-9ae5-44cd-a242-0e60c70deb00",
   "metadata": {},
   "source": [
    "Definimos la función con la que validaremos nuestros modelos (definida en clase)."
   ]
  },
  {
   "cell_type": "code",
   "execution_count": 12,
   "id": "035e1e72-8751-46aa-b910-a183093bcbe0",
   "metadata": {},
   "outputs": [],
   "source": [
    "def vcrep_kpart(X, y, r=10, k=5):\n",
    "    n = X.shape[0]\n",
    "    t_pliegue = int(n / k)\n",
    "    for i in range(r):\n",
    "        perm = np.random.permutation(n)\n",
    "        X = X[perm]\n",
    "        y = y[perm]\n",
    "        for j in range(k):\n",
    "            masc_val = np.zeros(n, dtype=bool)\n",
    "            masc_val[t_pliegue*j:t_pliegue*(j+1)] = True\n",
    "            masc_ent = np.logical_not(masc_val)\n",
    "            X_ent = X[masc_ent]\n",
    "            y_ent = y[masc_ent]\n",
    "            X_val = X[masc_val]\n",
    "            y_val = y[masc_val]\n",
    "      \n",
    "            yield i, j, i * k + j, X_ent, y_ent, X_val, y_val"
   ]
  },
  {
   "cell_type": "markdown",
   "id": "508be972-83b6-4c22-9f67-ff5032c37def",
   "metadata": {},
   "source": [
    "## Clasificadores"
   ]
  },
  {
   "cell_type": "markdown",
   "id": "24b2495c-0023-49d5-ace8-1e9de7573331",
   "metadata": {},
   "source": [
    "### Clasificador de datos de tumores"
   ]
  },
  {
   "cell_type": "markdown",
   "id": "96dda10c-4d78-4554-964b-d4fed23701bd",
   "metadata": {
    "tags": []
   },
   "source": [
    "#### Clasificador bayesiano ingenuo categórico"
   ]
  },
  {
   "cell_type": "markdown",
   "id": "1353d1da-8093-4a7e-8008-6612a07e4eef",
   "metadata": {},
   "source": [
    "Dividimos el conjunto de datos en entranamiento y prueba:"
   ]
  },
  {
   "cell_type": "code",
   "execution_count": 13,
   "id": "dbe88b56-a345-449c-a850-40d84035e5f7",
   "metadata": {},
   "outputs": [],
   "source": [
    "X_ent, X_pru, y_ent, y_pru = train_test_split(df_cancer.to_numpy()[:,1:-1],\n",
    "                                              df_cancer.to_numpy()[:,-1],\n",
    "                                              train_size=0.80, random_state=0)"
   ]
  },
  {
   "cell_type": "markdown",
   "id": "f882220b-2714-46e9-a5b6-6a8e8908e2ed",
   "metadata": {},
   "source": [
    "Obtenemos el score para el conjunto de entrenamiento y de validación, con el método de validación cruzada con 5 particiones y 10 repeticiones:"
   ]
  },
  {
   "cell_type": "code",
   "execution_count": 14,
   "id": "f5ef6ac6-2ba5-4140-8798-a29bf9baf6e0",
   "metadata": {},
   "outputs": [],
   "source": [
    "score_nb = np.zeros((50,2))\n",
    "for i,j,l,X_ent_vc,y_ent_vc,X_val_vc,y_val_vc in vcrep_kpart(X_ent,y_ent):\n",
    "    cnb = CategoricalNB()\n",
    "    cnb.fit(X_ent_vc, y_ent_vc) #Entrenar\n",
    "    score_nb[l,0]=cnb.score(X_ent_vc,y_ent_vc) #Fraccion de predicciones correctas e incorrectas en cjto de entrenamiento\n",
    "    score_nb[l,1]=cnb.score(X_val_vc,y_val_vc) #Fraccion de predicciones correctas e incorrectas en cjto de validación"
   ]
  },
  {
   "cell_type": "markdown",
   "id": "bd1e7362-453b-472d-bfd8-aa5dafe235d5",
   "metadata": {},
   "source": [
    "Graficamos la presión promedio del conjunto de entrenamiento y de validación."
   ]
  },
  {
   "cell_type": "code",
   "execution_count": 15,
   "id": "bb4a3a50-4951-4c3e-8a9e-24faa2b011aa",
   "metadata": {},
   "outputs": [
    {
     "data": {
      "image/png": "[encoded data removed]",
      "text/plain": [
       "<Figure size 432x288 with 1 Axes>"
      ]
     },
     "metadata": {
      "needs_background": "light"
     },
     "output_type": "display_data"
    },
    {
     "name": "stdout",
     "output_type": "stream",
     "text": [
      "[0.9710962  0.96900901]\n"
     ]
    }
   ],
   "source": [
    "plt.bar( ['Entrenamiento','Validación'],score_nb.mean(axis=0), \n",
    "       yerr=score_nb.std(axis=0), align='center', \n",
    "       alpha=0.5, ecolor='black', capsize=10)\n",
    "plt.ylabel('Precisión')\n",
    "plt.ylim([0.9,1])\n",
    "plt.show()\n",
    "print(score_nb.mean(axis=0))"
   ]
  },
  {
   "cell_type": "markdown",
   "id": "8edbcb2c-9729-435d-ad26-623e0ad02d20",
   "metadata": {},
   "source": [
    "### Regresión logistica"
   ]
  },
  {
   "cell_type": "markdown",
   "id": "e3005e26-3a3c-4404-b335-c2e212e22116",
   "metadata": {},
   "source": [
    "Definimos la clase RegresionLogistica:"
   ]
  },
  {
   "cell_type": "code",
   "execution_count": 16,
   "id": "c1c58cbf-2442-4e63-9aa8-28d3e38d493f",
   "metadata": {},
   "outputs": [],
   "source": [
    "def entropia_cruzada(q, y):\n",
    "    q[q==0] = np.nextafter(0,1)\n",
    "    q[q==1] = np.nextafter(1,0)\n",
    "    return np.sum(-np.log(q[np.nonzero(y)]))\n",
    "\n",
    "def softmax(z):\n",
    "    e_z = np.exp(z - np.max(z, axis = 1)[:, np.newaxis])\n",
    "    norm = np.sum(e_z, axis = 1)\n",
    "    return e_z / norm[:, np.newaxis]\n",
    "\n",
    "def gradiente(X, Y, Q): \n",
    "    return X.T @  (Q - Y)\n",
    "\n",
    "def descenso_gradiente(X, y, n_iter, tasa_ap):\n",
    "    n_ej = X.shape[0]\n",
    "    d = X.shape[1]\n",
    "    n_clases = np.unique(y).size\n",
    "  \n",
    "      # Codifica clases con vectores 1-de-K\n",
    "    Y_ohe = np.zeros((n_ej, n_clases))\n",
    "    Y_ohe[np.arange(n_ej), y] = 1\n",
    "\n",
    "  # Inicializa parámetros de forma aleatoria (\"LeCun uniform\")\n",
    "    lim = np.sqrt(1 / d)\n",
    "    parametros = np.random.uniform(-lim, lim, size=(d, n_clases))\n",
    "\n",
    "    ecc = []\n",
    "    for it in range(n_iter):\n",
    "        Q = softmax(X @ parametros)\n",
    "        parametros -= tasa_ap * gradiente(X, Y_ohe, Q)\n",
    "        ecc.append(entropia_cruzada(Q, Y_ohe))\n",
    "\n",
    "    return parametros, ecc\n",
    "\n",
    "def exactitud(y, y_predicha):\n",
    "    return (y == y_predicha).mean()"
   ]
  },
  {
   "cell_type": "code",
   "execution_count": 17,
   "id": "7d2fd5ee-a20e-4f04-abd1-f273ce916baa",
   "metadata": {},
   "outputs": [],
   "source": [
    "class RegLogMult:\n",
    "    def fit(self, X, y, n_iter=1000, tasa_ap=0.001):\n",
    "        self.parametros_, errores = descenso_gradiente(X, y, n_iter, tasa_ap)\n",
    "        return errores\n",
    "\n",
    "    def predict(self, X):\n",
    "        return softmax(X @ self.parametros_)\n",
    "  \n",
    "    def score(self, X, y):\n",
    "        q = self.predict(X)\n",
    "        return exactitud(y, np.argmax(q, axis=1))"
   ]
  },
  {
   "cell_type": "markdown",
   "id": "0f0a9d58-3872-4401-aaa4-b9b6195c2a5b",
   "metadata": {
    "id": "kHD9zbNQkbSt"
   },
   "source": [
    "Cuando entrenamos modelos a través del descenso por gradiente, es importante que los valores de todas las dimensiones de los vectores de ejemplo se encuentren en rangos similares. Para lograr esto, en algunas ocasiones es necesario escalar los ejemplos. "
   ]
  },
  {
   "cell_type": "code",
   "execution_count": 18,
   "id": "bfaf145f-2cbc-48b5-8903-3c1c76bf1457",
   "metadata": {},
   "outputs": [],
   "source": [
    "scaler = MinMaxScaler()\n",
    "X_ent1 = scaler.fit_transform(X_ent)\n",
    "X_pru1 = scaler.transform(X_pru)"
   ]
  },
  {
   "cell_type": "markdown",
   "id": "0a95197d-1114-47d5-9048-d1c566c55f27",
   "metadata": {
    "id": "_7I4u3bewx5r"
   },
   "source": [
    "Creamos la matriz de diseño para los conjuntos de entrenamiento y validación."
   ]
  },
  {
   "cell_type": "code",
   "execution_count": 19,
   "id": "63a7de26-d2e7-4088-ab5c-368193a4e730",
   "metadata": {
    "id": "P13vW3hVka0F"
   },
   "outputs": [],
   "source": [
    "ones = np.ones((X_ent.shape[0], 1))\n",
    "X_ent1 = np.column_stack((ones, X_ent))\n",
    "\n",
    "ones = np.ones((X_pru.shape[0], 1))\n",
    "X_pru1 = np.column_stack((ones, X_pru))"
   ]
  },
  {
   "cell_type": "markdown",
   "id": "7b76d7b0-17ae-4419-9c2f-15e72d250353",
   "metadata": {
    "id": "Kh7S0XGPw8u5"
   },
   "source": [
    "Instanciamos y entrenamos el modelo."
   ]
  },
  {
   "cell_type": "code",
   "execution_count": 20,
   "id": "493381fa-89de-4858-8422-c8b6684dcd3b",
   "metadata": {},
   "outputs": [],
   "source": [
    "score_lr = np.zeros((50,2))\n",
    "for i,j,l,X_ent_vc,y_ent_vc,X_val_vc,y_val_vc in vcrep_kpart(X_ent1,y_ent):\n",
    "    rl=RegLogMult()\n",
    "    rl.fit(X_ent1,y_ent)\n",
    "    score_lr[l,0]=rl.score(X_ent_vc,y_ent_vc) #Fraccion de predicciones correctas e incorrectas en cjto de entrenamiento\n",
    "    score_lr[l,1]=rl.score(X_val_vc,y_val_vc) #Fraccion de predic"
   ]
  },
  {
   "cell_type": "code",
   "execution_count": 21,
   "id": "723b4f90-3808-42ae-b22f-ad584e956da7",
   "metadata": {},
   "outputs": [
    {
     "data": {
      "image/png": "[encoded data removed]",
      "text/plain": [
       "<Figure size 432x288 with 1 Axes>"
      ]
     },
     "metadata": {
      "needs_background": "light"
     },
     "output_type": "display_data"
    },
    {
     "name": "stdout",
     "output_type": "stream",
     "text": [
      "[0.96693512 0.96630631]\n"
     ]
    }
   ],
   "source": [
    "plt.bar( ['Entrenamiento','Validación'],score_lr.mean(axis=0), \n",
    "       yerr=score_lr.std(axis=0), align='center', \n",
    "       alpha=0.5, ecolor='black', capsize=10)\n",
    "plt.ylabel('Precisión')\n",
    "plt.ylim([0.9,1])\n",
    "plt.show()\n",
    "print(score_lr.mean(axis=0))"
   ]
  },
  {
   "cell_type": "code",
   "execution_count": 22,
   "id": "864319bf-c2c4-43f2-9394-d0bd32106dcc",
   "metadata": {},
   "outputs": [
    {
     "name": "stdout",
     "output_type": "stream",
     "text": [
      "[0.9710962  0.96900901] [0.00328303 0.01183717] \n",
      " [0.96693512 0.96630631] [0.00772755 0.01669075]\n"
     ]
    }
   ],
   "source": [
    "print(score_nb.mean(axis=0), score_nb.std(axis=0), '\\n',\n",
    "      score_lr.mean(axis=0), score_lr.std(axis=0))"
   ]
  },
  {
   "cell_type": "markdown",
   "id": "0a99d4a8-994d-49d5-9e58-884eca47aed8",
   "metadata": {},
   "source": [
    "### Clasificadores de spam"
   ]
  },
  {
   "cell_type": "markdown",
   "id": "52b01e96-00d3-4648-b92d-dba26ee48fc7",
   "metadata": {},
   "source": [
    "#### Clasificador bayesiano ingenuo multinomial"
   ]
  },
  {
   "cell_type": "code",
   "execution_count": 23,
   "id": "019f5c47-ef4f-4699-87d8-491acd6531a0",
   "metadata": {},
   "outputs": [],
   "source": [
    "score_nb = np.zeros((50,2))\n",
    "for i,j,l,X_ent_vc,y_ent_vc,X_val_vc,y_val_vc in vcrep_kpart(X_ent,y_ent):\n",
    "    clf = MultinomialNB()\n",
    "    clf.fit(X_ent, y_ent)\n",
    "    score_nb[l,0]=clf.score(X_ent_vc,y_ent_vc) #Fraccion de predicciones correctas e incorrectas en cjto de entrenamiento\n",
    "    score_nb[l,1]=clf.score(X_val_vc,y_val_vc) #Fraccion de predicciones correctas e incorrectas en cjto de validación"
   ]
  },
  {
   "cell_type": "code",
   "execution_count": 29,
   "id": "a84ec54d-6f47-4a8d-b4aa-ff6b3476225a",
   "metadata": {},
   "outputs": [
    {
     "data": {
      "image/png": "[encoded data removed]",
      "text/plain": [
       "<Figure size 432x288 with 1 Axes>"
      ]
     },
     "metadata": {
      "needs_background": "light"
     },
     "output_type": "display_data"
    },
    {
     "name": "stdout",
     "output_type": "stream",
     "text": [
      "[0.91400447 0.91387387]\n"
     ]
    }
   ],
   "source": [
    "plt.bar( ['Entrenamiento','Validación'],score_nb.mean(axis=0), \n",
    "       yerr=score_nb.std(axis=0), align='center', \n",
    "       alpha=0.5, ecolor='black', capsize=10)\n",
    "plt.ylabel('Precisión')\n",
    "plt.ylim([0.9,1])\n",
    "plt.show()\n",
    "print(score_nb.mean(axis=0))"
   ]
  },
  {
   "cell_type": "markdown",
   "id": "c2cab95c-2ed6-4910-98a1-9e0b109fa804",
   "metadata": {},
   "source": [
    "#### Regresión logistica multinomial"
   ]
  },
  {
   "cell_type": "code",
   "execution_count": 25,
   "id": "1f424d3a-f63e-4cd1-95c3-5ac48c903fe6",
   "metadata": {},
   "outputs": [],
   "source": [
    "scaler = MinMaxScaler()\n",
    "X_ent2 = scaler.fit_transform(X_ent)\n",
    "X_pru2 = scaler.transform(X_pru)"
   ]
  },
  {
   "cell_type": "code",
   "execution_count": 26,
   "id": "e2beb802-3e2f-4486-9dff-6d04647b7eb3",
   "metadata": {},
   "outputs": [],
   "source": [
    "ones = np.ones((X_ent.shape[0], 1))\n",
    "X_ent2 = np.column_stack((ones, X_ent))\n",
    "\n",
    "ones = np.ones((X_pru.shape[0], 1))\n",
    "X_pru2 = np.column_stack((ones, X_pru))"
   ]
  },
  {
   "cell_type": "code",
   "execution_count": 27,
   "id": "3ba75973-102c-4db1-a652-ecda53ad8dbe",
   "metadata": {},
   "outputs": [],
   "source": [
    "score_lr = np.zeros((50,2))\n",
    "for i,j,l,X_ent_vc,y_ent_vc,X_val_vc,y_val_vc in vcrep_kpart(X_ent2,y_ent):\n",
    "    rl=RegLogMult()\n",
    "    rl.fit(X_ent2,y_ent)\n",
    "    score_lr[l,0]=rl.score(X_ent_vc,y_ent_vc) #Fraccion de predicciones correctas e incorrectas en cjto de entrenamiento\n",
    "    score_lr[l,1]=rl.score(X_val_vc,y_val_vc) #Fraccion de predic"
   ]
  },
  {
   "cell_type": "code",
   "execution_count": 31,
   "id": "ae2c3556-fbde-4a21-820a-265dc5093bb0",
   "metadata": {},
   "outputs": [
    {
     "data": {
      "image/png": "[encoded data removed]",
      "text/plain": [
       "<Figure size 432x288 with 1 Axes>"
      ]
     },
     "metadata": {
      "needs_background": "light"
     },
     "output_type": "display_data"
    },
    {
     "name": "stdout",
     "output_type": "stream",
     "text": [
      "[0.96724832 0.96504505]\n"
     ]
    }
   ],
   "source": [
    "plt.bar( ['Entrenamiento','Validación'],score_lr.mean(axis=0), \n",
    "       yerr=score_lr.std(axis=0), align='center', \n",
    "       alpha=0.5, ecolor='black', capsize=10)\n",
    "plt.ylabel('Precisión')\n",
    "plt.ylim([0.9,1])\n",
    "plt.show()\n",
    "print(score_lr.mean(axis=0))"
   ]
  },
  {
   "cell_type": "markdown",
   "id": "0d577600-53a1-433d-b982-e76986c5d88d",
   "metadata": {},
   "source": [
    "Se seleccionaría la regresión logistica multinomial pues esta tiene mejores resultados, en este caso no fue necesario recodificar el tipo de dato."
   ]
  }
 ],
 "metadata": {
  "kernelspec": {
   "display_name": "Python 3",
   "language": "python",
   "name": "python3"
  },
  "language_info": {
   "codemirror_mode": {
    "name": "ipython",
    "version": 3
   },
   "file_extension": ".py",
   "mimetype": "text/x-python",
   "name": "python",
   "nbconvert_exporter": "python",
   "pygments_lexer": "ipython3",
   "version": "3.9.12"
  }
 },
 "nbformat": 4,
 "nbformat_minor": 5
}
